{
 "cells": [
  {
   "cell_type": "code",
   "execution_count": 2,
   "metadata": {},
   "outputs": [
    {
     "name": "stdout",
     "output_type": "stream",
     "text": [
      "Decision Tree Training Accuracy: 97.79%\n",
      "Decision Tree Validation Accuracy: 97.85%\n",
      "KNN Training Accuracy: 97.16%\n",
      "KNN Validation Accuracy: 95.69%\n"
     ]
    }
   ],
   "source": [
    "import pandas as pd\n",
    "import numpy as np\n",
    "from sklearn import preprocessing\n",
    "from sklearn.model_selection import train_test_split\n",
    "from sklearn.metrics import accuracy_score\n",
    "from k_nearest_neighbors import KNNClassifier\n",
    "from decision_tree import DecisionTree\n",
    "\n",
    "# Step 1: Load the dataset\n",
    "df = pd.read_csv(\"./dataset/winequalityN.csv\")\n",
    "\n",
    "# Step 2: Preprocess the data\n",
    "le = preprocessing.LabelEncoder()\n",
    "le.fit(df[\"type\"])\n",
    "\n",
    "# Convert string labels to int labels\n",
    "df['type'] = le.transform(df[\"type\"])\n",
    "\n",
    "# Fill NaN values with 0\n",
    "df = df.fillna(0)\n",
    "\n",
    "# Identify features (X) and labels (y)\n",
    "label_collumn = \"type\"\n",
    "y = df[label_collumn]\n",
    "X = df.loc[:, df.columns != label_collumn]\n",
    "\n",
    "# Convert to numpy arrays\n",
    "y = y.to_numpy()\n",
    "X = X.to_numpy()\n",
    "\n",
    "# Step 3: Split dataset into training and validation sets\n",
    "X_train, X_val, y_train, y_val = train_test_split(X, y, test_size=0.1, random_state=42, stratify=y)\n",
    "\n",
    "# Step 4: Train and evaluate Decision Tree\n",
    "tree = DecisionTree(max_depth=3, mode=\"ig\")\n",
    "tree.fit(X_train, y_train)\n",
    "\n",
    "# Predict with Decision Tree on training set (train accuracy)\n",
    "y_train_pred_tree = tree.predict(X_train)\n",
    "train_accuracy_tree = accuracy_score(y_train, y_train_pred_tree)\n",
    "print(f\"Decision Tree Training Accuracy: {train_accuracy_tree:.2%}\")\n",
    "\n",
    "# Predict with Decision Tree on validation set (validation accuracy)\n",
    "y_val_pred_tree = tree.predict(X_val)\n",
    "val_accuracy_tree = accuracy_score(y_val, y_val_pred_tree)\n",
    "print(f\"Decision Tree Validation Accuracy: {val_accuracy_tree:.2%}\")\n",
    "\n",
    "# Step 5: Train and evaluate KNN Classifier\n",
    "knn = KNNClassifier(k=3)\n",
    "knn.fit(X_train, y_train)\n",
    "\n",
    "# Predict with KNN Classifier on training set (train accuracy)\n",
    "y_train_pred_knn = knn.predict(X_train)\n",
    "train_accuracy_knn = accuracy_score(y_train, y_train_pred_knn)\n",
    "print(f\"KNN Training Accuracy: {train_accuracy_knn:.2%}\")\n",
    "\n",
    "# Predict with KNN Classifier on validation set (validation accuracy)\n",
    "y_val_pred_knn = knn.predict(X_val)\n",
    "val_accuracy_knn = accuracy_score(y_val, y_val_pred_knn)\n",
    "print(f\"KNN Validation Accuracy: {val_accuracy_knn:.2%}\")\n"
   ]
  }
 ],
 "metadata": {
  "kernelspec": {
   "display_name": "Python 3",
   "language": "python",
   "name": "python3"
  },
  "language_info": {
   "codemirror_mode": {
    "name": "ipython",
    "version": 3
   },
   "file_extension": ".py",
   "mimetype": "text/x-python",
   "name": "python",
   "nbconvert_exporter": "python",
   "pygments_lexer": "ipython3",
   "version": "3.12.1"
  }
 },
 "nbformat": 4,
 "nbformat_minor": 2
}
