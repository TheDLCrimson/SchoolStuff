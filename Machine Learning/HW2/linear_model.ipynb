{
 "cells": [
  {
   "cell_type": "markdown",
   "metadata": {},
   "source": [
    "Let's install necessary packages"
   ]
  },
  {
   "cell_type": "code",
   "execution_count": 124,
   "metadata": {},
   "outputs": [
    {
     "name": "stdout",
     "output_type": "stream",
     "text": [
      "Requirement already satisfied: numpy in c:\\python312\\lib\\site-packages (1.26.3)\n"
     ]
    },
    {
     "name": "stderr",
     "output_type": "stream",
     "text": [
      "WARNING: There was an error checking the latest version of pip.\n"
     ]
    },
    {
     "name": "stdout",
     "output_type": "stream",
     "text": [
      "Requirement already satisfied: scikit-learn in c:\\python312\\lib\\site-packages (1.5.2)\n",
      "Requirement already satisfied: numpy>=1.19.5 in c:\\python312\\lib\\site-packages (from scikit-learn) (1.26.3)\n",
      "Requirement already satisfied: scipy>=1.6.0 in c:\\python312\\lib\\site-packages (from scikit-learn) (1.13.0)\n",
      "Requirement already satisfied: joblib>=1.2.0 in c:\\python312\\lib\\site-packages (from scikit-learn) (1.4.2)\n",
      "Requirement already satisfied: threadpoolctl>=3.1.0 in c:\\python312\\lib\\site-packages (from scikit-learn) (3.5.0)\n"
     ]
    },
    {
     "name": "stderr",
     "output_type": "stream",
     "text": [
      "WARNING: There was an error checking the latest version of pip.\n"
     ]
    },
    {
     "name": "stdout",
     "output_type": "stream",
     "text": [
      "Requirement already satisfied: matplotlib in c:\\python312\\lib\\site-packages (3.8.2)\n",
      "Requirement already satisfied: contourpy>=1.0.1 in c:\\python312\\lib\\site-packages (from matplotlib) (1.2.0)\n",
      "Requirement already satisfied: cycler>=0.10 in c:\\python312\\lib\\site-packages (from matplotlib) (0.12.1)\n",
      "Requirement already satisfied: fonttools>=4.22.0 in c:\\python312\\lib\\site-packages (from matplotlib) (4.47.0)\n",
      "Requirement already satisfied: kiwisolver>=1.3.1 in c:\\python312\\lib\\site-packages (from matplotlib) (1.4.5)\n",
      "Requirement already satisfied: numpy<2,>=1.21 in c:\\python312\\lib\\site-packages (from matplotlib) (1.26.3)\n",
      "Requirement already satisfied: packaging>=20.0 in c:\\python312\\lib\\site-packages (from matplotlib) (23.2)\n",
      "Requirement already satisfied: pillow>=8 in c:\\python312\\lib\\site-packages (from matplotlib) (10.2.0)\n",
      "Requirement already satisfied: pyparsing>=2.3.1 in c:\\python312\\lib\\site-packages (from matplotlib) (3.1.1)\n",
      "Requirement already satisfied: python-dateutil>=2.7 in c:\\python312\\lib\\site-packages (from matplotlib) (2.8.2)\n",
      "Requirement already satisfied: six>=1.5 in c:\\python312\\lib\\site-packages (from python-dateutil>=2.7->matplotlib) (1.16.0)\n"
     ]
    },
    {
     "name": "stderr",
     "output_type": "stream",
     "text": [
      "WARNING: There was an error checking the latest version of pip.\n"
     ]
    }
   ],
   "source": [
    "!pip install numpy\n",
    "!pip install scikit-learn\n",
    "!pip install matplotlib"
   ]
  },
  {
   "cell_type": "markdown",
   "metadata": {},
   "source": [
    "## Question 1\n",
    "We will now implement the algorithms learnt in the class. Let's start with Perceptron"
   ]
  },
  {
   "cell_type": "code",
   "execution_count": 125,
   "metadata": {},
   "outputs": [],
   "source": [
    "import numpy as np"
   ]
  },
  {
   "cell_type": "code",
   "execution_count": 126,
   "metadata": {},
   "outputs": [],
   "source": [
    "np.random.seed(1337)"
   ]
  },
  {
   "cell_type": "markdown",
   "metadata": {},
   "source": [
    "First we create a toy dataset in which each sample has 4 features. The output is 1 if the first feature is larger than 0.5, otherwise it's -1. We add one more feature with value 1 for bias. We learn a Perceptron model with weight $w$ as follows\n",
    "$$\n",
    "f(x)=\\begin{cases}1\\quad&\\text{if}\\;w^{\\intercal}x \\geq 0\\\\\n",
    "-1\\quad&\\text{otherwise}\n",
    "\\end{cases}\n",
    "$$"
   ]
  },
  {
   "cell_type": "code",
   "execution_count": 127,
   "metadata": {},
   "outputs": [],
   "source": [
    "num_samples = 500\n",
    "num_test_samples = 100\n",
    "num_features = 4\n",
    "x = np.random.rand(num_samples, num_features)\n",
    "y = (((x.mean(1) > 0.5) - 0.5) * 2).astype(int) # we convert {0, 1} values to {-1, 1}\n",
    "x = np.concatenate([x, np.ones((num_samples, 1))], 1)"
   ]
  },
  {
   "cell_type": "markdown",
   "metadata": {},
   "source": [
    "Let's initialize the weight by 0. Your tasks are:\n",
    "- implement the predicting function ```perceptron_predict``` that takes weights ```w``` and data ```x``` as inputs, returns the prediction of Perceptron model. \n",
    "- implement the training function in the slide (page 16) that takes weights ```w```, training data ```x``` and label ```y``` as inputs, returns the learnt weights."
   ]
  },
  {
   "cell_type": "code",
   "execution_count": 128,
   "metadata": {},
   "outputs": [],
   "source": [
    "\n",
    "def initialize(num_features):\n",
    "    return np.zeros(num_features)\n",
    "\n",
    "def perceptron_predict(w, x):\n",
    "    ### YOUR CODE HERE\n",
    "    return np.sign(np.dot(x, w.T))\n",
    "    ### \n",
    "\n",
    "def perceptron_train(w, x, y, num_epochs=1000):\n",
    "    for epoch in range(num_epochs):\n",
    "        for (x_i, y_i) in zip(x, y):\n",
    "            ### YOUR CODE HERE\n",
    "            if y_i * perceptron_predict(w.T, x_i) <= 0:\n",
    "                w += np.dot(y_i,  x_i)\n",
    "            ### \n",
    "    return w\n",
    "\n"
   ]
  },
  {
   "cell_type": "markdown",
   "metadata": {},
   "source": [
    "Let's train your model and check if it gives correct output for training data"
   ]
  },
  {
   "cell_type": "code",
   "execution_count": 129,
   "metadata": {},
   "outputs": [],
   "source": [
    "w = initialize(num_features + 1)\n",
    "w = perceptron_train(w, x, y)\n",
    "assert (perceptron_predict(w, x) - y).sum() == 0"
   ]
  },
  {
   "cell_type": "markdown",
   "metadata": {},
   "source": [
    "Now try on unseen test data"
   ]
  },
  {
   "cell_type": "code",
   "execution_count": 130,
   "metadata": {},
   "outputs": [],
   "source": [
    "x_test = np.random.rand(num_test_samples, num_features)\n",
    "y_test = (((x_test.mean(1) > 0.5) - 0.5) * 2).astype(int) # we convert {0, 1} values to {-1, 1}\n",
    "x_test = np.concatenate([x_test, np.ones((num_test_samples, 1))], 1)\n",
    "assert (perceptron_predict(w, x_test) == y_test).mean() > 0.9"
   ]
  },
  {
   "cell_type": "markdown",
   "metadata": {},
   "source": [
    "We can also train Perceptron with gradient descent with log loss. You need to\n",
    "- implement the derivative of log loss ```derivative_log_loss```, returning the derivative with respect to the weights ```w``` given training data ```x``` and labels ```y```.\n",
    "- implement the training function with gradient descent ```perceptron_train_log_loss``` returning the weights learnt by gradient descent by calling the ```derivative_log_loss``` function above."
   ]
  },
  {
   "cell_type": "code",
   "execution_count": 131,
   "metadata": {},
   "outputs": [],
   "source": [
    "def sigmoid(z):\n",
    "    return 1 / (1 + np.exp(-z))\n",
    "\n",
    "def derivative_log_loss(w, x, y):\n",
    "    ### YOUR CODE HERE\n",
    "    sig = sigmoid(-y * np.dot(w.T, x))\n",
    "    derivative = -y * sig * x\n",
    "    return derivative\n",
    "    ### \n",
    "\n",
    "def perceptron_train_log_loss(w, x, y, lr=0.01, num_epochs=1000):\n",
    "    for epoch in range(num_epochs):\n",
    "        for (x_i, y_i) in zip(x, y):\n",
    "            gradient = derivative_log_loss(w, x_i, y_i)\n",
    "            ### YOUR CODE HERE\n",
    "            w -= lr * gradient\n",
    "            ### \n",
    "    return w\n",
    "w = initialize(num_features + 1)\n",
    "w = perceptron_train(w, x, y)\n",
    "assert (perceptron_predict(w, x) - y).sum() == 0"
   ]
  },
  {
   "cell_type": "code",
   "execution_count": 132,
   "metadata": {},
   "outputs": [],
   "source": [
    "x_test = np.random.rand(num_test_samples, num_features)\n",
    "y_test = (((x_test.mean(1) > 0.5) - 0.5) * 2).astype(int) # we convert {0, 1} values to {-1, 1}\n",
    "x_test = np.concatenate([x_test, np.ones((num_test_samples, 1))], 1)\n",
    "assert (perceptron_predict(w, x_test) == y_test).mean() > 0.9"
   ]
  },
  {
   "cell_type": "markdown",
   "metadata": {},
   "source": [
    "In the lecture, we learnt that Perceptron does not work if the dataset is not linearly separable. Let's visualize that claim.\n",
    "\n",
    "We study the moons dataset, including two half-moons in 2D space for positive and negative classes. Red dots illustrate positive samples, blue dots illustrate negative samples."
   ]
  },
  {
   "cell_type": "code",
   "execution_count": 133,
   "metadata": {},
   "outputs": [],
   "source": [
    "from sklearn.datasets import make_moons\n",
    "x, y = make_moons(1000)"
   ]
  },
  {
   "cell_type": "code",
   "execution_count": 134,
   "metadata": {},
   "outputs": [
    {
     "data": {
      "text/plain": [
       "<matplotlib.legend.Legend at 0x1c0c38a6f60>"
      ]
     },
     "execution_count": 134,
     "metadata": {},
     "output_type": "execute_result"
    },
    {
     "data": {
      "image/png": "[encoded data removed]",
      "text/plain": [
       "<Figure size 640x480 with 1 Axes>"
      ]
     },
     "metadata": {},
     "output_type": "display_data"
    }
   ],
   "source": [
    "import matplotlib.pyplot as plt\n",
    "pos = x[y == 0]\n",
    "neg = x[y == 1]\n",
    "plt.scatter(*pos.T, c='r', label='Positive')\n",
    "plt.scatter(*neg.T, c='b', label='Negative')\n",
    "plt.legend()"
   ]
  },
  {
   "cell_type": "markdown",
   "metadata": {},
   "source": [
    "We train a Perceptron as above and see whether the model can separate two half-moons."
   ]
  },
  {
   "cell_type": "code",
   "execution_count": 135,
   "metadata": {},
   "outputs": [],
   "source": [
    "x_train = np.concatenate([x, np.ones((1000, 1))], 1)\n",
    "w = initialize(3)\n",
    "w = perceptron_train(w, x_train, y, num_epochs=1000)"
   ]
  },
  {
   "cell_type": "code",
   "execution_count": 136,
   "metadata": {},
   "outputs": [],
   "source": [
    "y_pred = perceptron_predict(w, x_train)"
   ]
  },
  {
   "cell_type": "code",
   "execution_count": 137,
   "metadata": {},
   "outputs": [
    {
     "data": {
      "text/plain": [
       "<matplotlib.legend.Legend at 0x1c0c37a4d40>"
      ]
     },
     "execution_count": 137,
     "metadata": {},
     "output_type": "execute_result"
    },
    {
     "data": {
      "image/png": "[encoded data removed]",
      "text/plain": [
       "<Figure size 640x480 with 1 Axes>"
      ]
     },
     "metadata": {},
     "output_type": "display_data"
    }
   ],
   "source": [
    "pos = x[y_pred == -1, :2]\n",
    "neg = x[y_pred == 1, :2]\n",
    "plt.scatter(*pos.T, c='r', label='Positive Prediction')\n",
    "plt.scatter(*neg.T, c='b', label='Negative Prediction')\n",
    "plt.legend()"
   ]
  },
  {
   "cell_type": "markdown",
   "metadata": {},
   "source": [
    "## Question 2\n",
    "In this question, we work on regression problem with linear regression model $Xw$ where $w$ is the weight vector you need to learn. We predefine some hyperparameters as follows"
   ]
  },
  {
   "cell_type": "code",
   "execution_count": 138,
   "metadata": {},
   "outputs": [],
   "source": [
    "lr = 0.05\n",
    "epochs = 10000\n",
    "num_features = 3"
   ]
  },
  {
   "cell_type": "markdown",
   "metadata": {},
   "source": [
    "We fit the model using least square objective function\n",
    "$$\n",
    "\\min\\|Xw-y\\|^2_2\n",
    "$$\n",
    "Your tasks are\n",
    "- complete ```fit_gd``` function that learns weights ```w``` by gradient descent given training data ```x```, labels ```y``` and current weights ```w```, with the gradient derived in written questions\n",
    "- implement ```fit_closeform``` function that returns ```x``` that makes the gradient become $0$ using the formula you obtained in written questions"
   ]
  },
  {
   "cell_type": "code",
   "execution_count": 139,
   "metadata": {},
   "outputs": [],
   "source": [
    "w = np.zeros(num_features)\n",
    "\n",
    "def initialize(num_features):\n",
    "    return np.zeros(num_features)\n",
    "\n",
    "def predict(X, w):\n",
    "    return np.dot(X, w)\n",
    "\n",
    "def fit_gd(x, y, w):\n",
    "    ### YOUR CODE HERE\n",
    "    for _ in range(epochs):\n",
    "        gd = 2 * np.dot(np.dot(x.T, x), w) - 2 * np.dot(x.T, y)\n",
    "        w -= gd\n",
    "    ### \n",
    "    return w\n",
    "\n",
    "def fit_closeform(X, y, w):\n",
    "    ### YOUR CODE HERE\n",
    "    inv = np.linalg.inv(np.dot(X.T, X))\n",
    "    w = np.dot(inv, np.dot(X.T, y))\n",
    "    ### \n",
    "    return w\n",
    "\n",
    "\n"
   ]
  },
  {
   "cell_type": "markdown",
   "metadata": {},
   "source": [
    "After learning ```w```, the prediction of the model should be similar to the label ```y```."
   ]
  },
  {
   "cell_type": "code",
   "execution_count": 140,
   "metadata": {},
   "outputs": [],
   "source": [
    "data = np.array([[ 0.1,  0.3 , -0.7  ],\n",
    "        [-0.2, 0.5 ,  0.1],\n",
    "        [ 0.25, 0.2, 0.  ]])\n"
   ]
  },
  {
   "cell_type": "code",
   "execution_count": 141,
   "metadata": {},
   "outputs": [],
   "source": [
    "y = np.array([0.5 , 0.5, -0.2  ])"
   ]
  },
  {
   "cell_type": "code",
   "execution_count": 142,
   "metadata": {},
   "outputs": [],
   "source": [
    "w = initialize(num_features)\n",
    "w = fit_closeform(data, y, w)\n",
    "assert ((predict(data, w) - y) ** 2).sum() < 1e-5"
   ]
  },
  {
   "cell_type": "code",
   "execution_count": 143,
   "metadata": {},
   "outputs": [],
   "source": [
    "w = initialize(num_features)\n",
    "w = fit_gd(data, y, w)\n",
    "assert ((predict(data, w) - y) ** 2).sum() < 1e-5"
   ]
  },
  {
   "cell_type": "markdown",
   "metadata": {},
   "source": [
    "Next, we will optimize with ridge regularization. You need to \n",
    "- implement gradient descent function ```fit_gd_ridge``` to find ```w``` with the gradient that you obtained in written questions. The hyperparameters are similar to the previous question, with a new ```ld``` value for coefficient of regularization.\n",
    "- implement closeform solution ```fit_closeform_ridge``` for ```w``` as what you obtained in written questions. The hyperparameters are similar to the previous question, with a new ```ld``` value for coefficient of regularization."
   ]
  },
  {
   "cell_type": "code",
   "execution_count": 144,
   "metadata": {},
   "outputs": [],
   "source": [
    "def fit_gd_ridge(X, y, w, ld=0.2):\n",
    "    ### YOUR CODE HERE\n",
    "    for _ in range(epochs):\n",
    "        gd = 2 * np.dot(np.dot(X.T, X), w) - 2 * np.dot(X.T, y) + 2 * ld * w\n",
    "        w -= gd\n",
    "    ### \n",
    "    return w\n",
    "\n",
    "def fit_closeform_ridge(X, y, w, ld=0.2):\n",
    "    ### YOUR CODE HERE\n",
    "    inv = np.linalg.inv(np.dot(X.T, X) + ld * np.identity(num_features))\n",
    "    w = np.dot(inv, np.dot(X.T, y))\n",
    "    ### \n",
    "    return w"
   ]
  },
  {
   "cell_type": "code",
   "execution_count": 145,
   "metadata": {},
   "outputs": [],
   "source": [
    "pred = np.load('ridge_pred.npy')"
   ]
  },
  {
   "cell_type": "code",
   "execution_count": 146,
   "metadata": {},
   "outputs": [],
   "source": [
    "w = initialize(num_features)\n",
    "w = fit_closeform_ridge(data, y, w)\n",
    "assert ((predict(data, w) - pred) ** 2).sum() < 1e-5"
   ]
  },
  {
   "cell_type": "code",
   "execution_count": 147,
   "metadata": {},
   "outputs": [],
   "source": [
    "w = initialize(num_features)\n",
    "w = fit_gd_ridge(data, y, w)\n",
    "assert ((predict(data, w) - pred) ** 2).sum() < 1e-5"
   ]
  },
  {
   "cell_type": "markdown",
   "metadata": {},
   "source": [
    "Let's move to a simple toy dataset for regression, where the output is just the summation of all features. "
   ]
  },
  {
   "cell_type": "code",
   "execution_count": 148,
   "metadata": {},
   "outputs": [],
   "source": [
    "X_train = np.random.rand(1000, num_features)\n",
    "y_train = X_train.sum(1)"
   ]
  },
  {
   "cell_type": "code",
   "execution_count": 149,
   "metadata": {},
   "outputs": [
    {
     "name": "stdout",
     "output_type": "stream",
     "text": [
      "Total training error:  2.1120063622661308e-27\n"
     ]
    }
   ],
   "source": [
    "w = initialize(num_features)\n",
    "w = fit_closeform(X_train, y_train, w)\n",
    "print('Total training error: ', ((predict(X_train, w) - y_train) ** 2).sum())"
   ]
  },
  {
   "cell_type": "code",
   "execution_count": 150,
   "metadata": {},
   "outputs": [
    {
     "name": "stdout",
     "output_type": "stream",
     "text": [
      "Total test error:  1.7528504721450437e-28\n"
     ]
    }
   ],
   "source": [
    "X_test = np.random.rand(100, num_features)\n",
    "y_test = X_test.sum(1)\n",
    "print('Total test error: ', ((predict(X_test, w) - y_test) ** 2).sum())"
   ]
  }
 ],
 "metadata": {
  "kernelspec": {
   "display_name": "Python 3",
   "language": "python",
   "name": "python3"
  },
  "language_info": {
   "codemirror_mode": {
    "name": "ipython",
    "version": 3
   },
   "file_extension": ".py",
   "mimetype": "text/x-python",
   "name": "python",
   "nbconvert_exporter": "python",
   "pygments_lexer": "ipython3",
   "version": "3.12.1"
  }
 },
 "nbformat": 4,
 "nbformat_minor": 2
}
